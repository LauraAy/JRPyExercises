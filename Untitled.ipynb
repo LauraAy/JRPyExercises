{
 "cells": [
  {
   "cell_type": "code",
   "execution_count": 21,
   "id": "085ea212",
   "metadata": {},
   "outputs": [
    {
     "name": "stdout",
     "output_type": "stream",
     "text": [
      "Hello, welcome to the banking portal.\n",
      " In this portal, you can handle all your banking needs.\n",
      "Type Login to log in.\n",
      "Type Quit to quit.\n",
      "Enter your selection now: Login\n",
      "Login\n"
     ]
    }
   ],
   "source": [
    "#printing banking instructions\n",
    "print(\"Hello, welcome to the banking portal.\")\n",
    "print(\" In this portal, you can handle all your banking needs.\")\n",
    "print(\"Type Login to log in.\")\n",
    "print(\"Type Quit to quit.\")\n",
    "selection = input(\"Enter your selection now: \")\n",
    "print(selection)"
   ]
  },
  {
   "cell_type": "code",
   "execution_count": 17,
   "id": "ccb60b2c",
   "metadata": {},
   "outputs": [
    {
     "name": "stdout",
     "output_type": "stream",
     "text": [
      "How are you?good\n"
     ]
    },
    {
     "data": {
      "text/plain": [
       "'good'"
      ]
     },
     "execution_count": 17,
     "metadata": {},
     "output_type": "execute_result"
    }
   ],
   "source": [
    "input(\"How are you?\")\n"
   ]
  },
  {
   "cell_type": "code",
   "execution_count": 19,
   "id": "20496ad0",
   "metadata": {},
   "outputs": [
    {
     "name": "stdout",
     "output_type": "stream",
     "text": [
      "Please enter your first name: Sarah\n",
      "please enter your last name: Stump\n",
      "Your name is:\n",
      "Sarah Stump\n"
     ]
    }
   ],
   "source": [
    "firstname = input(\"Please enter your first name: \")\n",
    "lastname = input(\"please enter your last name: \")\n",
    "print(\"Your name is:\")\n",
    "print(firstname + \" \" + lastname)"
   ]
  },
  {
   "cell_type": "code",
   "execution_count": null,
   "id": "a07cef41",
   "metadata": {},
   "outputs": [],
   "source": []
  }
 ],
 "metadata": {
  "kernelspec": {
   "display_name": "Python 3 (ipykernel)",
   "language": "python",
   "name": "python3"
  },
  "language_info": {
   "codemirror_mode": {
    "name": "ipython",
    "version": 3
   },
   "file_extension": ".py",
   "mimetype": "text/x-python",
   "name": "python",
   "nbconvert_exporter": "python",
   "pygments_lexer": "ipython3",
   "version": "3.11.5"
  }
 },
 "nbformat": 4,
 "nbformat_minor": 5
}
