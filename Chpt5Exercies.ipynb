{
 "cells": [
  {
   "cell_type": "code",
   "execution_count": 6,
   "id": "f8b9b60c",
   "metadata": {},
   "outputs": [
    {
     "name": "stdout",
     "output_type": "stream",
     "text": [
      "password incorrect\n"
     ]
    }
   ],
   "source": [
    "password = \"admIn\"\n",
    "condition = (password == \"admin\")\n",
    "\n",
    "#if condition is equal to True, which means the password is correct \n",
    "if condition: \n",
    "    print(\"password correct\")\n",
    "    #if condition is equal to False, which means the password is not correct.\n",
    "if condition == False:\n",
    "    print(\"password incorrect\")"
   ]
  },
  {
   "cell_type": "code",
   "execution_count": 18,
   "id": "d976acf7",
   "metadata": {},
   "outputs": [
    {
     "name": "stdout",
     "output_type": "stream",
     "text": [
      "This person is allowed to drive.\n"
     ]
    }
   ],
   "source": [
    "Age = 21\n",
    "\n",
    "if age >= 16:\n",
    "    print(\"This person is allowed to drive.\")\n",
    "else:\n",
    "    print(\"This person is NOT allowed to drive.\")"
   ]
  },
  {
   "cell_type": "code",
   "execution_count": 14,
   "id": "75a90ef8",
   "metadata": {},
   "outputs": [
    {
     "name": "stdout",
     "output_type": "stream",
     "text": [
      "The color is alba.\n"
     ]
    }
   ],
   "source": [
    "color=\"alba\"\n",
    "\n",
    "if color == \"red\":\n",
    "    print(\"The color is red.\")\n",
    "\n",
    "elif color == \"green\":\n",
    "    print(\"The color is green.\")\n",
    "elif color == \"alba\":\n",
    "    print(\"The color is alba.\")\n",
    "else:\n",
    "    print(\"I don't know what color that is!\")\n"
   ]
  },
  {
   "cell_type": "code",
   "execution_count": 17,
   "id": "0b4bf1cc",
   "metadata": {},
   "outputs": [
    {
     "name": "stdout",
     "output_type": "stream",
     "text": [
      "Please. enter a credit score: 1000\n",
      "Please enter a valid credit score between 0 and 850\n"
     ]
    }
   ],
   "source": [
    "creditscore = int(input(\"Please. enter a credit score: \"))\n",
    "\n",
    "if creditscore <= 450:\n",
    "    print(\"This credit score is very low.\")\n",
    "elif creditscore <= 650 and creditscore > 450:\n",
    "    print(\"This credit score is low\")\n",
    "elif creditscore <= 800 and creditscore > 650:\n",
    "    print(\"This credit score is good.\")\n",
    "elif creditscore > 800 and creditscore <= 850:\n",
    "    print(\"This credit score is excellent.\")\n",
    "else: \n",
    "    print(\"Please enter a valid credit score between 0 and 850\")"
   ]
  },
  {
   "cell_type": "code",
   "execution_count": 36,
   "id": "104390d9",
   "metadata": {},
   "outputs": [
    {
     "name": "stdout",
     "output_type": "stream",
     "text": [
      "Do you own any cats?Yes\n",
      "Do you own any dogsyes\n",
      "You are a true petlover!\n"
     ]
    }
   ],
   "source": [
    "catowner = input(\"Do you own any cats?\")\n",
    "dogowner = input(\"Do you own any dogs\")\n",
    "\n",
    "\n",
    "if catowner == \"yes\" or \"Yes\" and dogowner == \"yes\" or \"Yes\":\n",
    "    print(\"You are a true petlover!\")\n",
    "else: \n",
    "    print(\"Maybe you need more pets.\")"
   ]
  },
  {
   "cell_type": "raw",
   "id": "a1325861",
   "metadata": {},
   "source": [
    "\n",
    "\n"
   ]
  },
  {
   "cell_type": "code",
   "execution_count": 30,
   "id": "612268a7",
   "metadata": {},
   "outputs": [
    {
     "name": "stdout",
     "output_type": "stream",
     "text": [
      "The Declaration of Independence was signed in 1976.true\n",
      "The U.S. Constitution was first ratified in 1787.false\n",
      "The U.S. Civil War occurred between April of 1861 and April of 1965.true\n",
      "The Emancipation Proclamation was issued in 1863.false\n",
      "False. The Declaration of Independence was signed in 1776.\n",
      "No. That one was true!\n",
      "False. The Civil war took place from April 1861 to April 1865.\n",
      "No. That one was true!\n",
      "You got\n",
      "0\n",
      "questions right out of 4.\n"
     ]
    }
   ],
   "source": [
    "independence = input(\"The Declaration of Independence was signed in 1976.\")\n",
    "constitution = input(\"The U.S. Constitution was first ratified in 1787.\")\n",
    "civilwar = input(\"The U.S. Civil War occurred between April of 1861 and April of 1965.\")\n",
    "emancipation = input(\"The Emancipation Proclamation was issued in 1863.\")\n",
    "\n",
    "score = 0\n",
    "\n",
    "if independence == \"false\":\n",
    "    score = score + 1;\n",
    "    print(\"That's right!\")\n",
    "else:\n",
    "    print(\"False. The Declaration of Independence was signed in 1776.\")\n",
    "    \n",
    "if constitution == \"true\":\n",
    "    score = score + 1;\n",
    "    print(\"That's right!\")\n",
    "else:\n",
    "    print(\"No. That one was true!\")\n",
    "\n",
    "\n",
    "if civilwar == \"false\":\n",
    "    score = score + 1;\n",
    "    print(\"That's right!\")\n",
    "else:\n",
    "    print(\"False. The Civil war took place from April 1861 to April 1865.\")\n",
    "        \n",
    "if emancipation == \"true\":\n",
    "    score = score + 1;\n",
    "    print(\"That's right!\");\n",
    "else:\n",
    "    print(\"No. That one was true!\")\n",
    "    \n",
    "    \n",
    "    \n",
    "print(\"You got\"); print(score); print(\"questions right out of 4.\")"
   ]
  },
  {
   "cell_type": "raw",
   "id": "15e784db",
   "metadata": {},
   "source": []
  },
  {
   "cell_type": "code",
   "execution_count": 20,
   "id": "45ee732c",
   "metadata": {},
   "outputs": [
    {
     "name": "stdout",
     "output_type": "stream",
     "text": [
      "Access Denied\n"
     ]
    }
   ],
   "source": [
    "correct_username=\"admin\"\n",
    "guessed_username = \"Admin\"\n",
    "\n",
    "if correct_username == guessed_username:\n",
    "    print(\"Access Granted\")\n",
    "else: \n",
    "    print(\"Access Denied\")"
   ]
  },
  {
   "cell_type": "code",
   "execution_count": 59,
   "id": "b6772003",
   "metadata": {},
   "outputs": [
    {
     "name": "stdout",
     "output_type": "stream",
     "text": [
      "What season is your favorite?summer\n",
      "I can't wait to go to the beach!\n"
     ]
    }
   ],
   "source": [
    "season=input(\"What season is your favorite?\")\n",
    "\n",
    "if season == \"autumn\" or season == \"fall\":\n",
    "    print(\"Ah, the crisp air and colors of the autumn leaves!\")\n",
    "elif season == \"winter\":\n",
    "    print(\"Do you want to build a snowman?\")\n",
    "elif season == \"spring\":\n",
    "    print(\"Cherry blossoms are so beautiful!\")\n",
    "elif season == \"summer\":\n",
    "    print(\"I can't wait to go to the beach!\")\n",
    "else: \n",
    "    print(\"I don't know what that season is.\")"
   ]
  },
  {
   "cell_type": "code",
   "execution_count": 73,
   "id": "3c3ade27",
   "metadata": {},
   "outputs": [
    {
     "name": "stdout",
     "output_type": "stream",
     "text": [
      "What is your last name?Matheson\n",
      "You are on the Dangerous Dwarves Team!\n"
     ]
    }
   ],
   "source": [
    "name = input(\"What is your last name?\")\n",
    "\n",
    "if name[0] == \"A\" or name[0] == \"a\" or name[0] == \"B\" or name[0] == \"b\" or name[0] == \"C\" or name[0] == \"c\" or name[0] == \"D\" or name[0] == \"d\":\n",
    "    print(\"You are on the Fiery Dragons team!\")\n",
    "elif name[0] == \"E\" or name[0] == \"e\" or name[0] == \"F\" or name[0] == \"f\" or name[0] == \"G\" or name[0] == \"g\" or name[0] == \"H\" or name[0] == \"h\":\n",
    "    print(\"You are on the Dark Wizards team!\")\n",
    "elif name[0] == \"I\" or name[0] == \"i\" or name[0] == \"J\" or name[0] == \"j\"or name[0] == \"K\" or name[0] == \"k\" or name[0] == \"L\" or name[0] == \"l\":\n",
    "     print(\"You are on the Happy Hobbits Team!\")\n",
    "elif name[0] == \"M\" or name[0] == \"m\" or name[0] == \"N\" or name[0] == \"n\"or name[0] == \"O\" or name[0] == \"o\" or name[0] == \"P\" or name[0] == \"p\":\n",
    "    print(\"You are on the Dangerous Dwarves Team!\")\n",
    "elif name[0] == \"Q\" or name[0] == \"q\" or name[0] == \"R\" or name[0] == \"r\"or name[0] == \"S\" or name[0] == \"s\" or name[0] == \"T\" or name[0] == \"t\":\n",
    "     print(\"You are on the Elven Magic Team!\")\n",
    "elif name[0] == \"U\" or name[0] == \"u\" or name[0] == \"V\" or name[0] == \"v\"or name[0] == \"W\" or name[0] == \"w\" or name[0] == \"X\" or name[0] == \"x\" or name[0] == \"Y\" or name[0] == \"y\" or name[0] == \"Z\" or name[0] == \"z\":\n",
    "     print(\"You are on the Misty Mountains Team!\")\n",
    "else: \n",
    "    print(\"I don't know what to do with you.\")"
   ]
  },
  {
   "cell_type": "code",
   "execution_count": null,
   "id": "cdfcf809",
   "metadata": {},
   "outputs": [],
   "source": []
  },
  {
   "cell_type": "code",
   "execution_count": null,
   "id": "40156786",
   "metadata": {},
   "outputs": [],
   "source": []
  }
 ],
 "metadata": {
  "kernelspec": {
   "display_name": "Python 3 (ipykernel)",
   "language": "python",
   "name": "python3"
  },
  "language_info": {
   "codemirror_mode": {
    "name": "ipython",
    "version": 3
   },
   "file_extension": ".py",
   "mimetype": "text/x-python",
   "name": "python",
   "nbconvert_exporter": "python",
   "pygments_lexer": "ipython3",
   "version": "3.11.5"
  }
 },
 "nbformat": 4,
 "nbformat_minor": 5
}
