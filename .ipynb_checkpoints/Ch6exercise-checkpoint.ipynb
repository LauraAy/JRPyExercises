{
 "cells": [
  {
   "cell_type": "code",
   "execution_count": 4,
   "id": "160e6cac",
   "metadata": {},
   "outputs": [
    {
     "name": "stdout",
     "output_type": "stream",
     "text": [
      "9402.5\n"
     ]
    }
   ],
   "source": [
    "tax_income = 80000\n",
    "\n",
    "if tax_income <= 9875:\n",
    "    tax_due = tax_income * 0.1\n",
    "elif tax_income <= 40125: \n",
    "    tax_due = (9875 * .1) + ((tax_income - 9875) * .12)\n",
    "elif tax_income <= 85525:\n",
    "    tax_due = (9875 * .1) + ((40125 - 9875) * .12) + (tax_income -40125 * .22)\n",
    "tax_due = (9875 * .1) + ((tax_income - 9875) * .12) \n",
    "\n",
    "#print the result\n",
    "print(tax_due)"
   ]
  },
  {
   "cell_type": "code",
   "execution_count": null,
   "id": "61bcca2e",
   "metadata": {},
   "outputs": [],
   "source": []
  }
 ],
 "metadata": {
  "kernelspec": {
   "display_name": "Python 3 (ipykernel)",
   "language": "python",
   "name": "python3"
  },
  "language_info": {
   "codemirror_mode": {
    "name": "ipython",
    "version": 3
   },
   "file_extension": ".py",
   "mimetype": "text/x-python",
   "name": "python",
   "nbconvert_exporter": "python",
   "pygments_lexer": "ipython3",
   "version": "3.11.5"
  }
 },
 "nbformat": 4,
 "nbformat_minor": 5
}
