{
 "cells": [
  {
   "cell_type": "code",
   "execution_count": 25,
   "id": "085ea212",
   "metadata": {},
   "outputs": [
    {
     "name": "stdout",
     "output_type": "stream",
     "text": [
      "Hello, welcome toDigital Bank\n",
      "You are using the banking portal version \n",
      "1.1\n",
      "In this portal, you can handle all your banking needs.\n",
      "Type Login to log in.\n",
      "Type Quit to quit.\n",
      "Quit\n",
      "You have selected\n",
      "Quit\n"
     ]
    }
   ],
   "source": [
    "#printing banking instructions\n",
    "pversion = 1.1\n",
    "bname = \"Digital Bank\"\n",
    "isLogged = False\n",
    "print(\"Hello, welcome to\" +bname)\n",
    "print(\"You are using the banking portal version \");print(pversion)\n",
    "print(\"In this portal, you can handle all your banking needs.\")\n",
    "print(\"Type Login to log in.\")\n",
    "print(\"Type Quit to quit.\")\n",
    "selection = input(\"\")\n",
    "print(\"You have selected\")\n",
    "print(selection)"
   ]
  },
  {
   "cell_type": "code",
   "execution_count": 33,
   "id": "ccb60b2c",
   "metadata": {},
   "outputs": [
    {
     "name": "stdout",
     "output_type": "stream",
     "text": [
      "10150\n"
     ]
    }
   ],
   "source": [
    "import math;\n",
    "\n",
    "loan1 = 12383.89\n",
    "loan2 = 48339.99\n",
    "roundLoanA = math.ceil (loan1*.078)\n",
    "roundloanB = math.floor(loan2*.19)\n",
    "print(roundLoanA+roundloanB)"
   ]
  },
  {
   "cell_type": "code",
   "execution_count": 35,
   "id": "e2e4d768",
   "metadata": {},
   "outputs": [
    {
     "name": "stdout",
     "output_type": "stream",
     "text": [
      "Enter the year you were born: 1722\n",
      "Enter the current year: 1799\n",
      "Your age is:\n",
      "77\n"
     ]
    }
   ],
   "source": [
    "year_born = input(\"Enter the year you were born: \")\n",
    "current_year = input(\"Enter the current year: \")\n",
    "\n",
    "#convert the strings into integers\n",
    "born_int = int(year_born)\n",
    "current_int = int(current_year)\n",
    "\n",
    "age = current_int - born_int\n",
    "\n",
    "print(\"Your age is:\")\n",
    "print(age)"
   ]
  },
  {
   "cell_type": "code",
   "execution_count": 42,
   "id": "874cb778",
   "metadata": {},
   "outputs": [
    {
     "name": "stdout",
     "output_type": "stream",
     "text": [
      "False\n"
     ]
    }
   ],
   "source": []
  },
  {
   "cell_type": "code",
   "execution_count": null,
   "id": "17f7cae6",
   "metadata": {},
   "outputs": [],
   "source": []
  }
 ],
 "metadata": {
  "kernelspec": {
   "display_name": "Python 3 (ipykernel)",
   "language": "python",
   "name": "python3"
  },
  "language_info": {
   "codemirror_mode": {
    "name": "ipython",
    "version": 3
   },
   "file_extension": ".py",
   "mimetype": "text/x-python",
   "name": "python",
   "nbconvert_exporter": "python",
   "pygments_lexer": "ipython3",
   "version": "3.11.5"
  }
 },
 "nbformat": 4,
 "nbformat_minor": 5
}
