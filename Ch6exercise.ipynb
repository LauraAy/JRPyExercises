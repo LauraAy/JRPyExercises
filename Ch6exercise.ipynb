{
 "cells": [
  {
   "cell_type": "code",
   "execution_count": 27,
   "id": "0b83a285",
   "metadata": {},
   "outputs": [
    {
     "name": "stdout",
     "output_type": "stream",
     "text": [
      "26349.5\n"
     ]
    }
   ],
   "source": [
    "tax_income = 200000\n",
    "\n",
    "if tax_income <= 9875:\n",
    "    tax_due = tax_income * 0.1\n",
    "elif tax_income <= 40125: \n",
    "    tax_due = (9875 * .1) + ((tax_income - 9875) * .12)\n",
    "elif tax_income <= 85525:\n",
    "    tax_due = (9875 * .1) + ((40125 - 9875) * .12) + ((tax_income - 40125) * .22)\n",
    "elif tax_income <= 163300:\n",
    "    tax_due = (9875 * .1) + ((40125 - 9875) * .12) + ((85525  - 40125) * .22) + ((tax_income - 85525) * .24)\n",
    "#print the result\n",
    "print(tax_due)"
   ]
  },
  {
   "cell_type": "code",
   "execution_count": 34,
   "id": "7e516f9b",
   "metadata": {},
   "outputs": [
    {
     "name": "stdout",
     "output_type": "stream",
     "text": [
      "39831.5\n"
     ]
    }
   ],
   "source": [
    "tax_income = 183800\n",
    "\n",
    "max10 = 9875\n",
    "max12 = 40125\n",
    "max22 = 85525\n",
    "max24 = 163300\n",
    "max32 = 207350\n",
    "max35 = 518400\n",
    "\n",
    "tier10_tax = max10 * .1\n",
    "tier12_tax = tier10_tax + ((max12 - max10) * .12)\n",
    "tier22_tax = tier12_tax + ((max22 - max12) * .22)\n",
    "tier24_tax = tier22_tax + ((max24 - max22) * .24)\n",
    "tier32_tax = tier24_tax + ((max32 - max24) * .32)\n",
    "tier35_tax = tier32_tax + ((max35 - max32) * .35)\n",
    "\n",
    "if tax_income <= max10:\n",
    "    tax_due = tax_income * 0.1\n",
    "elif tax_income <= max12:\n",
    "    tax_due = tier10_tax + ((tax_income - max10) * .12)\n",
    "elif tax_income <= max22:\n",
    "    tax_due = tier12_tax + ((tax_income - max12) * .22)   \n",
    "elif tax_income <= max24: \n",
    "    tax_due = tier22_tax + ((tax_income - max22) * .24)\n",
    "elif tax_income <= max32:\n",
    "    tax_due = tier24_tax + ((tax_income - max24) * .32)\n",
    "elif tax_income <= max35: \n",
    "    tax_due = tier32_tax + ((tax_income - max32) * .35)\n",
    "elif tax_income > max35: \n",
    "    tax_due = tier35_tax + ((tax_income - max35) * .37)\n",
    "\n",
    "print(tax_due)"
   ]
  },
  {
   "cell_type": "code",
   "execution_count": null,
   "id": "de882d1d",
   "metadata": {},
   "outputs": [],
   "source": []
  },
  {
   "cell_type": "code",
   "execution_count": null,
   "id": "125d889c",
   "metadata": {},
   "outputs": [],
   "source": []
  }
 ],
 "metadata": {
  "kernelspec": {
   "display_name": "Python 3 (ipykernel)",
   "language": "python",
   "name": "python3"
  },
  "language_info": {
   "codemirror_mode": {
    "name": "ipython",
    "version": 3
   },
   "file_extension": ".py",
   "mimetype": "text/x-python",
   "name": "python",
   "nbconvert_exporter": "python",
   "pygments_lexer": "ipython3",
   "version": "3.11.5"
  }
 },
 "nbformat": 4,
 "nbformat_minor": 5
}
